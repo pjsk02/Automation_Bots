{
 "cells": [
  {
   "cell_type": "code",
   "execution_count": 2,
   "id": "03b67ee6",
   "metadata": {},
   "outputs": [
    {
     "name": "stdout",
     "output_type": "stream",
     "text": [
      "Username: 100\n",
      "Password: ETL\n"
     ]
    }
   ],
   "source": [
    "with open(\"credentials.txt\", \"r\") as file:\n",
    "    lines = file.readlines()\n",
    "    # Read the first line for the username and remove extra whitespace\n",
    "    username = lines[0].strip()\n",
    "    # Read the second line for the password and remove extra whitespace\n",
    "    password = lines[1].strip()\n",
    "\n",
    "print(f\"Username: {username}\")\n",
    "print(f\"Password: {password}\")\n"
   ]
  },
  {
   "cell_type": "code",
   "execution_count": null,
   "id": "4ff2954e",
   "metadata": {},
   "outputs": [],
   "source": []
  }
 ],
 "metadata": {
  "kernelspec": {
   "display_name": "Python 3",
   "language": "python",
   "name": "python3"
  },
  "language_info": {
   "codemirror_mode": {
    "name": "ipython",
    "version": 3
   },
   "file_extension": ".py",
   "mimetype": "text/x-python",
   "name": "python",
   "nbconvert_exporter": "python",
   "pygments_lexer": "ipython3",
   "version": "3.14.0"
  }
 },
 "nbformat": 4,
 "nbformat_minor": 5
}
