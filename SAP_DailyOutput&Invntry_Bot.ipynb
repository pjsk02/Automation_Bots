{
 "cells": [
  {
   "cell_type": "code",
   "execution_count": 2,
   "id": "43da678f",
   "metadata": {},
   "outputs": [],
   "source": [
    "import win32com.client\n",
    "import subprocess\n",
    "import time"
   ]
  },
  {
   "cell_type": "code",
   "execution_count": null,
   "id": "1e9cf260",
   "metadata": {},
   "outputs": [],
   "source": [
    "with open(\"credentials.txt\", \"r\") as file:\n",
    "    lines = file.readlines()\n",
    "    # Read the first line for the client ID and remove extra whitespace\n",
    "    client_id = lines[0].strip()\n",
    "    # Read the Second line for the username and remove extra whitespace\n",
    "    username = lines[1].strip()\n",
    "    # Read the Third line line for the password and remove extra whitespace\n",
    "    password = lines[2].strip()\n",
    "    # Read the Fourth line for the Name and remove extra whitespace\n",
    "    name = lines[3].strip()\n",
    "\n",
    "# print(f\"Username: {username}\")\n",
    "# print(f\"Password: {password}\")\n"
   ]
  },
  {
   "cell_type": "code",
   "execution_count": null,
   "id": "e38b524d",
   "metadata": {},
   "outputs": [],
   "source": [
    "# open SAP Logon\n",
    "subprocess.Popen(r\"C:\\\\Program Files (x86)\\SAP\\\\FrontEnd\\SAPgui\\saplogon.exe\")\n",
    "time.sleep(5)\n",
    "SapGuiAuto = win32com.client.GetObject('SAPGUI')\n",
    "application = SapGuiAuto.GetScriptingEngine\n",
    "connection = application.OpenConnection(name,True)\n",
    "\n",
    "# login\n",
    "session = connection.Children(0)\n",
    "session.findbyId(\"wnd[0]\").maximize\n",
    "session.findById(\"wnd[0]/usr/txtRSYST-MANDT\").text = client_id # Client\n",
    "session.findById(\"wnd[0]/usr/txtRSYST-BNAME\").text = username    # User\n",
    "session.findById(\"wnd[0]/usr/pwdRSYST-BCODE\").text = password  # Password\n",
    "session.findById(\"wnd[0]/usr/txtRSYST-LANGU\").text = \"EN\"   # Language\n",
    "session.findById(\"wnd[0]\").sendVKey(0) # Enter\n",
    "time.sleep(1)"
   ]
  },
  {
   "cell_type": "code",
   "execution_count": 11,
   "id": "6f36848b",
   "metadata": {},
   "outputs": [],
   "source": [
    "# navigate to transaction code\n",
    "session.findById(\"wnd[0]/tbar[0]/okcd\").text = \"/nMB52\" # Transaction code\n",
    "session.findById(\"wnd[0]\").sendVKey(0) # Enter\n",
    "time.sleep(1)"
   ]
  },
  {
   "cell_type": "code",
   "execution_count": 8,
   "id": "097e94b5",
   "metadata": {},
   "outputs": [
    {
     "ename": "com_error",
     "evalue": "(-2147352567, 'Exception occurred.', (617, 'SAP Frontend Server', 'The virtual key is not enabled.', None, 0, 0), None)",
     "output_type": "error",
     "traceback": [
      "\u001b[31m---------------------------------------------------------------------------\u001b[39m",
      "\u001b[31mcom_error\u001b[39m                                 Traceback (most recent call last)",
      "\u001b[36mCell\u001b[39m\u001b[36m \u001b[39m\u001b[32mIn[8]\u001b[39m\u001b[32m, line 6\u001b[39m\n\u001b[32m      4\u001b[39m session.findById(\u001b[33m\"\u001b[39m\u001b[33mwnd[0]/usr/ctxtP_VARI\u001b[39m\u001b[33m\"\u001b[39m).text = \u001b[33m\"\u001b[39m\u001b[33m/US9100-INV.\u001b[39m\u001b[33m\"\u001b[39m\n\u001b[32m      5\u001b[39m time.sleep(\u001b[32m1\u001b[39m)\n\u001b[32m----> \u001b[39m\u001b[32m6\u001b[39m \u001b[43msession\u001b[49m\u001b[43m.\u001b[49m\u001b[43mfindById\u001b[49m\u001b[43m(\u001b[49m\u001b[33;43m\"\u001b[39;49m\u001b[33;43mwnd[0]\u001b[39;49m\u001b[33;43m\"\u001b[39;49m\u001b[43m)\u001b[49m\u001b[43m.\u001b[49m\u001b[43msendVKey\u001b[49m\u001b[43m(\u001b[49m\u001b[32;43m8\u001b[39;49m\u001b[43m)\u001b[49m \u001b[38;5;66;03m# F8\u001b[39;00m\n\u001b[32m      7\u001b[39m time.sleep(\u001b[32m1\u001b[39m)\n",
      "\u001b[36mFile \u001b[39m\u001b[32m<COMObject <unknown>>:2\u001b[39m, in \u001b[36msendVKey\u001b[39m\u001b[34m(self, *args)\u001b[39m\n",
      "\u001b[31mcom_error\u001b[39m: (-2147352567, 'Exception occurred.', (617, 'SAP Frontend Server', 'The virtual key is not enabled.', None, 0, 0), None)"
     ]
    }
   ],
   "source": [
    "# Entering Plant Number\n",
    "session.findById(\"wnd[0]/usr/ctxtWERKS-LOW\").text = \"9100\"\n",
    "time.sleep(1)\n",
    "session.findById(\"wnd[0]/usr/ctxtP_VARI\").text = \"/US9100-INV.\"\n",
    "time.sleep(1)\n",
    "session.findById(\"wnd[0]\").sendVKey(8) # F8\n",
    "time.sleep(1)\n"
   ]
  },
  {
   "cell_type": "code",
   "execution_count": null,
   "id": "26663864",
   "metadata": {},
   "outputs": [],
   "source": [
    "#### This function presses on the menu bar and triggers the export to spreadsheet option\n",
    "\n",
    "# --- make sure the ALV grid has focus (menu items are enabled only then)\n",
    "for pid in [\n",
    "    \"wnd[0]/usr/cntlGRID1/shellcont/shell\",\n",
    "    \"wnd[0]/usr/cntlALV_GRID/shellcont/shell\",\n",
    "    \"wnd[0]/usr/cntlRESULT_LIST/shellcont/shell\",\n",
    "]:\n",
    "    try:\n",
    "        session.findById(pid).setFocus()\n",
    "        break\n",
    "    except:\n",
    "        pass\n",
    "\n",
    "# --- helper that clicks a menu path by visible captions\n",
    "def click_menu(*labels):\n",
    "    path = \"wnd[0]/mbar\"\n",
    "    for depth, want in enumerate(labels):\n",
    "        want = want.lower()\n",
    "        i = 0\n",
    "        while True:\n",
    "            try:\n",
    "                itm = session.findById(f\"{path}/menu[{i}]\")\n",
    "            except:\n",
    "                raise Exception(f\"Menu '{labels[depth]}' not found at depth {depth}.\")\n",
    "            # remove accelerators (&) and match by prefix\n",
    "            txt = itm.text.replace(\"&\", \"\").strip().lower()\n",
    "            if txt.startswith(want):\n",
    "                path = f\"{path}/menu[{i}]\"\n",
    "                break\n",
    "            i += 1\n",
    "    # final select\n",
    "    session.findById(path).select()\n",
    "\n",
    "# --- List → Export → Spreadsheet…\n",
    "click_menu(\"List\", \"Export\", \"Spreadsheet\")\n",
    "\n"
   ]
  },
  {
   "cell_type": "code",
   "execution_count": 9,
   "id": "816a2ad1",
   "metadata": {},
   "outputs": [],
   "source": [
    "# --- Export dialog (OK) and Save As\n",
    "try:\n",
    "    session.findById(\"wnd[1]/tbar[0]/btn[0]\").press()  # OK on 'Export' popup (if shown)\n",
    "except: \n",
    "    pass\n",
    "\n",
    "try:\n",
    "    session.findById(\"wnd[1]/usr/ctxtDY_PATH\").text = r\"C:\\Temp\"\n",
    "    session.findById(\"wnd[1]/usr/ctxtDY_FILENAME\").text = \"MB52_Export.xlsx\"\n",
    "    session.findById(\"wnd[1]/tbar[0]/btn[0]\").press()  # Save\n",
    "except:\n",
    "    try:\n",
    "        session.findById(\"wnd[2]/tbar[0]/btn[0]\").press()  # Overwrite = Yes\n",
    "    except:\n",
    "        pass"
   ]
  },
  {
   "cell_type": "code",
   "execution_count": 10,
   "id": "12dc0bad",
   "metadata": {},
   "outputs": [],
   "source": [
    "# Adding Time Stamp as file name\n",
    "from datetime import datetime\n",
    "# Function to create time Stamp and add as Text\n",
    "now = datetime.now()\n",
    "timestamp = now.strftime(\"%Y%m%d_%H%M%S\")\n",
    "FileName = \"DailyStockCount\"\n",
    "concat = FileName+\"_\"+timestamp\n",
    "\n",
    "session.findById(\"wnd[1]/usr/ssubSUB_CONFIGURATION:SAPLSALV_GUI_CUL_EXPORT_AS:0512/txtGS_EXPORT-FILE_NAME\").text = concat\n",
    "\n",
    "# Clicking Export Button\n",
    "session.findById(\"wnd[0]\").sendVKey(0) # Enter\n",
    "\n"
   ]
  },
  {
   "cell_type": "code",
   "execution_count": null,
   "id": "14a4fec5",
   "metadata": {},
   "outputs": [],
   "source": [
    "session.findById(\"wnd[1]/usr/ctxtDY_PATH\").text =r\"C:\\\\Users\\\\JeSai\\\\OneDrive - Boviet Solar USA\\Boviet IT Team - Boviet IT Team Channel\\BI Dashboards\\Stock Data\"\n",
    "\n",
    "session.findById(\"wnd[0]\").sendVKey(0) # Enter\n"
   ]
  },
  {
   "cell_type": "code",
   "execution_count": null,
   "id": "13d09132",
   "metadata": {},
   "outputs": [],
   "source": []
  }
 ],
 "metadata": {
  "kernelspec": {
   "display_name": "Python 3",
   "language": "python",
   "name": "python3"
  },
  "language_info": {
   "codemirror_mode": {
    "name": "ipython",
    "version": 3
   },
   "file_extension": ".py",
   "mimetype": "text/x-python",
   "name": "python",
   "nbconvert_exporter": "python",
   "pygments_lexer": "ipython3",
   "version": "3.14.0"
  }
 },
 "nbformat": 4,
 "nbformat_minor": 5
}
