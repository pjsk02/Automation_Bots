{
 "cells": [
  {
   "cell_type": "code",
   "execution_count": 4,
   "id": "43da678f",
   "metadata": {},
   "outputs": [],
   "source": [
    "import win32com.client\n",
    "import subprocess\n",
    "import time"
   ]
  },
  {
   "cell_type": "code",
   "execution_count": 5,
   "id": "e38b524d",
   "metadata": {},
   "outputs": [],
   "source": [
    "# open SAP Logon\n",
    "subprocess.Popen(r\"C:\\\\Program Files (x86)\\SAP\\\\FrontEnd\\SAPgui\\saplogon.exe\")\n",
    "time.sleep(5)\n",
    "SapGuiAuto = win32com.client.GetObject('SAPGUI')\n",
    "application = SapGuiAuto.GetScriptingEngine\n",
    "connection = application.OpenConnection(\"USDEV\",True)\n",
    "\n",
    "# login\n",
    "session = connection.Children(0)\n",
    "session.findbyId(\"wnd[0]\").maximize\n",
    "session.findById(\"wnd[0]/usr/txtRSYST-MANDT\").text = \"800\" # Client\n",
    "session.findById(\"wnd[0]/usr/txtRSYST-BNAME\").text = \"JESAI\"    # User\n",
    "session.findById(\"wnd[0]/usr/pwdRSYST-BCODE\").text = \"jaisai2025\"  # Password\n",
    "session.findById(\"wnd[0]/usr/txtRSYST-LANGU\").text = \"EN\"   # Language\n",
    "session.findById(\"wnd[0]\").sendVKey(0) # Enter\n",
    "time.sleep(1)"
   ]
  },
  {
   "cell_type": "code",
   "execution_count": 6,
   "id": "6f36848b",
   "metadata": {},
   "outputs": [],
   "source": [
    "# navigate to transaction code\n",
    "session.findById(\"wnd[0]/tbar[0]/okcd\").text = \"/nMB52\" # Transaction code\n",
    "session.findById(\"wnd[0]\").sendVKey(0) # Enter\n",
    "time.sleep(1)"
   ]
  },
  {
   "cell_type": "code",
   "execution_count": 7,
   "id": "097e94b5",
   "metadata": {},
   "outputs": [],
   "source": [
    "# Entering Plant Number\n",
    "session.findById(\"wnd[0]/usr/ctxtWERKS-LOW\").text = \"9100\"\n",
    "time.sleep(1)\n",
    "session.findById(\"wnd[0]/usr/ctxtP_VARI\").text = \"/US9100-INV.\"\n",
    "time.sleep(1)\n",
    "session.findById(\"wnd[0]\").sendVKey(8) # F8\n",
    "time.sleep(1)\n"
   ]
  },
  {
   "cell_type": "code",
   "execution_count": null,
   "id": "26663864",
   "metadata": {},
   "outputs": [],
   "source": [
    "#### This function presses on the menu bar and triggers the export to spreadsheet option\n",
    "\n",
    "# --- make sure the ALV grid has focus (menu items are enabled only then)\n",
    "for pid in [\n",
    "    \"wnd[0]/usr/cntlGRID1/shellcont/shell\",\n",
    "    \"wnd[0]/usr/cntlALV_GRID/shellcont/shell\",\n",
    "    \"wnd[0]/usr/cntlRESULT_LIST/shellcont/shell\",\n",
    "]:\n",
    "    try:\n",
    "        session.findById(pid).setFocus()\n",
    "        break\n",
    "    except:\n",
    "        pass\n",
    "\n",
    "# --- helper that clicks a menu path by visible captions\n",
    "def click_menu(*labels):\n",
    "    path = \"wnd[0]/mbar\"\n",
    "    for depth, want in enumerate(labels):\n",
    "        want = want.lower()\n",
    "        i = 0\n",
    "        while True:\n",
    "            try:\n",
    "                itm = session.findById(f\"{path}/menu[{i}]\")\n",
    "            except:\n",
    "                raise Exception(f\"Menu '{labels[depth]}' not found at depth {depth}.\")\n",
    "            # remove accelerators (&) and match by prefix\n",
    "            txt = itm.text.replace(\"&\", \"\").strip().lower()\n",
    "            if txt.startswith(want):\n",
    "                path = f\"{path}/menu[{i}]\"\n",
    "                break\n",
    "            i += 1\n",
    "    # final select\n",
    "    session.findById(path).select()\n",
    "\n",
    "# --- List → Export → Spreadsheet…\n",
    "click_menu(\"List\", \"Export\", \"Spreadsheet\")\n",
    "\n"
   ]
  },
  {
   "cell_type": "code",
   "execution_count": 9,
   "id": "816a2ad1",
   "metadata": {},
   "outputs": [],
   "source": [
    "# --- Export dialog (OK) and Save As\n",
    "try:\n",
    "    session.findById(\"wnd[1]/tbar[0]/btn[0]\").press()  # OK on 'Export' popup (if shown)\n",
    "except: \n",
    "    pass\n",
    "\n",
    "try:\n",
    "    session.findById(\"wnd[1]/usr/ctxtDY_PATH\").text = r\"C:\\Temp\"\n",
    "    session.findById(\"wnd[1]/usr/ctxtDY_FILENAME\").text = \"MB52_Export.xlsx\"\n",
    "    session.findById(\"wnd[1]/tbar[0]/btn[0]\").press()  # Save\n",
    "except:\n",
    "    try:\n",
    "        session.findById(\"wnd[2]/tbar[0]/btn[0]\").press()  # Overwrite = Yes\n",
    "    except:\n",
    "        pass"
   ]
  },
  {
   "cell_type": "code",
   "execution_count": 10,
   "id": "12dc0bad",
   "metadata": {},
   "outputs": [],
   "source": [
    "# Adding Time Stamp as file name\n",
    "from datetime import datetime\n",
    "# Function to create time Stamp and add as Text\n",
    "now = datetime.now()\n",
    "timestamp = now.strftime(\"%Y%m%d_%H%M%S\")\n",
    "FileName = \"DailyStockCount\"\n",
    "concat = FileName+\"_\"+timestamp\n",
    "\n",
    "session.findById(\"wnd[1]/usr/ssubSUB_CONFIGURATION:SAPLSALV_GUI_CUL_EXPORT_AS:0512/txtGS_EXPORT-FILE_NAME\").text = concat\n",
    "\n",
    "# Clicking Export Button\n",
    "session.findById(\"wnd[0]\").sendVKey(0) # Enter\n",
    "\n"
   ]
  },
  {
   "cell_type": "code",
   "execution_count": null,
   "id": "14a4fec5",
   "metadata": {},
   "outputs": [],
   "source": [
    "session.findById(\"wnd[1]/usr/ctxtDY_PATH\").text =r\"C:\\\\Users\\\\JeSai\\\\OneDrive - Boviet Solar USA\\Boviet IT Team - Boviet IT Team Channel\\BI Dashboards\\Stock Data\"\n",
    "\n",
    "session.findById(\"wnd[0]\").sendVKey(0) # Enter\n"
   ]
  },
  {
   "cell_type": "code",
   "execution_count": null,
   "id": "13d09132",
   "metadata": {},
   "outputs": [],
   "source": []
  }
 ],
 "metadata": {
  "kernelspec": {
   "display_name": "Python 3",
   "language": "python",
   "name": "python3"
  },
  "language_info": {
   "codemirror_mode": {
    "name": "ipython",
    "version": 3
   },
   "file_extension": ".py",
   "mimetype": "text/x-python",
   "name": "python",
   "nbconvert_exporter": "python",
   "pygments_lexer": "ipython3",
   "version": "3.14.0"
  }
 },
 "nbformat": 4,
 "nbformat_minor": 5
}
