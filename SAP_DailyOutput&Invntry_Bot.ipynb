{
 "cells": [
  {
   "cell_type": "code",
   "execution_count": 13,
   "id": "43da678f",
   "metadata": {},
   "outputs": [],
   "source": [
    "import win32com.client\n",
    "import subprocess\n",
    "import time"
   ]
  },
  {
   "cell_type": "code",
   "execution_count": 14,
   "id": "e38b524d",
   "metadata": {},
   "outputs": [
    {
     "ename": "KeyboardInterrupt",
     "evalue": "",
     "output_type": "error",
     "traceback": [
      "\u001b[31m---------------------------------------------------------------------------\u001b[39m",
      "\u001b[31mKeyboardInterrupt\u001b[39m                         Traceback (most recent call last)",
      "\u001b[36mCell\u001b[39m\u001b[36m \u001b[39m\u001b[32mIn[14]\u001b[39m\u001b[32m, line 3\u001b[39m\n\u001b[32m      1\u001b[39m \u001b[38;5;66;03m# open SAP Logon\u001b[39;00m\n\u001b[32m      2\u001b[39m subprocess.Popen(\u001b[33mr\u001b[39m\u001b[33m\"\u001b[39m\u001b[33mC:\u001b[39m\u001b[38;5;130;01m\\\\\u001b[39;00m\u001b[33mProgram Files (x86)\u001b[39m\u001b[33m\\\u001b[39m\u001b[33mSAP\u001b[39m\u001b[38;5;130;01m\\\\\u001b[39;00m\u001b[33mFrontEnd\u001b[39m\u001b[33m\\\u001b[39m\u001b[33mSAPgui\u001b[39m\u001b[33m\\\u001b[39m\u001b[33msaplogon.exe\u001b[39m\u001b[33m\"\u001b[39m)\n\u001b[32m----> \u001b[39m\u001b[32m3\u001b[39m \u001b[43mtime\u001b[49m\u001b[43m.\u001b[49m\u001b[43msleep\u001b[49m\u001b[43m(\u001b[49m\u001b[32;43m5\u001b[39;49m\u001b[43m)\u001b[49m\n\u001b[32m      4\u001b[39m SapGuiAuto = win32com.client.GetObject(\u001b[33m'\u001b[39m\u001b[33mSAPGUI\u001b[39m\u001b[33m'\u001b[39m)\n\u001b[32m      5\u001b[39m application = SapGuiAuto.GetScriptingEngine\n",
      "\u001b[31mKeyboardInterrupt\u001b[39m: "
     ]
    }
   ],
   "source": [
    "# open SAP Logon\n",
    "subprocess.Popen(r\"C:\\\\Program Files (x86)\\SAP\\\\FrontEnd\\SAPgui\\saplogon.exe\")\n",
    "time.sleep(5)\n",
    "SapGuiAuto = win32com.client.GetObject('SAPGUI')\n",
    "application = SapGuiAuto.GetScriptingEngine\n",
    "connection = application.OpenConnection(\"USDEV\",True)\n",
    "\n",
    "# login\n",
    "session = connection.Children(0)\n",
    "session.findbyId(\"wnd[0]\").maximize\n",
    "session.findById(\"wnd[0]/usr/txtRSYST-MANDT\").text = \"800\" # Client\n",
    "session.findById(\"wnd[0]/usr/txtRSYST-BNAME\").text = \"JESAI\"    # User\n",
    "session.findById(\"wnd[0]/usr/pwdRSYST-BCODE\").text = \"jaisai2025\"  # Password\n",
    "session.findById(\"wnd[0]/usr/txtRSYST-LANGU\").text = \"EN\"   # Language\n",
    "session.findById(\"wnd[0]\").sendVKey(0) # Enter\n",
    "time.sleep(1)"
   ]
  },
  {
   "cell_type": "code",
   "execution_count": null,
   "id": "6f36848b",
   "metadata": {},
   "outputs": [],
   "source": [
    "# navigate to transaction code\n",
    "session.findById(\"wnd[0]/tbar[0]/okcd\").text = \"/nMB52\" # Transaction code\n",
    "session.findById(\"wnd[0]\").sendVKey(0) # Enter\n",
    "time.sleep(1)"
   ]
  },
  {
   "cell_type": "code",
   "execution_count": null,
   "id": "097e94b5",
   "metadata": {},
   "outputs": [],
   "source": [
    "# Entering Plant Number\n",
    "session.findById(\"wnd[0]/usr/ctxtWERKS-LOW\").text = \"9100\"\n",
    "time.sleep(1)\n",
    "session.findById(\"wnd[0]\").sendVKey(8) # F8\n",
    "time.sleep(1)\n"
   ]
  },
  {
   "cell_type": "code",
   "execution_count": null,
   "id": "85638288",
   "metadata": {},
   "outputs": [],
   "source": [
    "# Expporting to Excel\n",
    "# session.findById(\"wnd[0]/tbar[1]/btn[43]\").press # why its not pressing\n",
    "# alv_ids = [\n",
    "#     \"wnd[0]/usr/cntlGRID1/shellcont/shell\",\n",
    "#     \"wnd[0]/usr/cntlALV_GRID/shellcont/shell\",\n",
    "#     \"wnd[0]/usr/cntlRESULT_LIST/shellcont/shell\",\n",
    "# ]\n",
    "# grid = None\n",
    "# for pid in alv_ids:\n",
    "#     try:\n",
    "#         grid = session.findById(pid)\n",
    "#         break\n",
    "#     except:\n",
    "#         pass\n",
    "# if grid is None:\n",
    "#     raise Exception(\"ALV grid not found. Start recorder on the export click to grab the exact path.\")\n",
    "\n",
    "# # give focus (important for some GUIs) and press Export-to-Excel\n",
    "# grid.setFocus()\n",
    "# # grid.pressToolbarButton(\"&XXL\")          # Export → Spreadsheet\n",
    "# grid.selectContextMenuItem(\"&XXL\")     "
   ]
  },
  {
   "cell_type": "code",
   "execution_count": null,
   "id": "f365bf4e",
   "metadata": {},
   "outputs": [],
   "source": [
    "session.findById(\"wnd[0]/tbar[1]/btn[43]\").press\n"
   ]
  },
  {
   "cell_type": "code",
   "execution_count": null,
   "id": "6bd433f4",
   "metadata": {},
   "outputs": [],
   "source": []
  }
 ],
 "metadata": {
  "kernelspec": {
   "display_name": "Python 3",
   "language": "python",
   "name": "python3"
  },
  "language_info": {
   "codemirror_mode": {
    "name": "ipython",
    "version": 3
   },
   "file_extension": ".py",
   "mimetype": "text/x-python",
   "name": "python",
   "nbconvert_exporter": "python",
   "pygments_lexer": "ipython3",
   "version": "3.14.0"
  }
 },
 "nbformat": 4,
 "nbformat_minor": 5
}
