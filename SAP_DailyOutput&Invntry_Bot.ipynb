{
 "cells": [
  {
   "cell_type": "code",
   "execution_count": 1,
   "id": "43da678f",
   "metadata": {},
   "outputs": [],
   "source": [
    "import win32com.client\n",
    "import subprocess\n",
    "import time"
   ]
  },
  {
   "cell_type": "code",
   "execution_count": 2,
   "id": "1e9cf260",
   "metadata": {},
   "outputs": [],
   "source": [
    "with open(\"credentials.txt\", \"r\") as file:\n",
    "    lines = file.readlines()\n",
    "    # Read the first line for the client ID and remove extra whitespace\n",
    "    client_id = lines[0].strip()\n",
    "    # Read the Second line for the username and remove extra whitespace\n",
    "    username = lines[1].strip()\n",
    "    # Read the Third line line for the password and remove extra whitespace\n",
    "    password = lines[2].strip()\n",
    "    # Read the Fourth line for the Name and remove extra whitespace\n",
    "    name = lines[3].strip()\n",
    "\n",
    "# print(f\"Username: {username}\")\n",
    "# print(f\"Password: {password}\")\n"
   ]
  },
  {
   "cell_type": "code",
   "execution_count": 3,
   "id": "e38b524d",
   "metadata": {},
   "outputs": [],
   "source": [
    "# open SAP Logon\n",
    "\n",
    "subprocess.Popen(r\"C:\\\\Program Files (x86)\\SAP\\\\FrontEnd\\SAPgui\\saplogon.exe\")\n",
    "time.sleep(5)\n",
    "SapGuiAuto = win32com.client.GetObject('SAPGUI')\n",
    "application = SapGuiAuto.GetScriptingEngine\n",
    "connection = application.OpenConnection(name,True)\n",
    "\n",
    "# login\n",
    "session = connection.Children(0)\n",
    "session.findbyId(\"wnd[0]\").maximize\n",
    "session.findById(\"wnd[0]/usr/txtRSYST-MANDT\").text = client_id # Client\n",
    "session.findById(\"wnd[0]/usr/txtRSYST-BNAME\").text = username    # User\n",
    "session.findById(\"wnd[0]/usr/pwdRSYST-BCODE\").text = password  # Password\n",
    "session.findById(\"wnd[0]/usr/txtRSYST-LANGU\").text = \"EN\"   # Language\n",
    "session.findById(\"wnd[0]\").sendVKey(0) # Enter\n",
    "time.sleep(1)"
   ]
  },
  {
   "cell_type": "code",
   "execution_count": 4,
   "id": "6f36848b",
   "metadata": {},
   "outputs": [],
   "source": [
    "# navigate to transaction code\n",
    "session.findById(\"wnd[0]/tbar[0]/okcd\").text = \"/nMB52\" # Transaction code\n",
    "session.findById(\"wnd[0]\").sendVKey(0) # Enter\n",
    "time.sleep(1)"
   ]
  },
  {
   "cell_type": "code",
   "execution_count": 5,
   "id": "097e94b5",
   "metadata": {},
   "outputs": [],
   "source": [
    "# Entering Plant Number\n",
    "session.findById(\"wnd[0]/usr/ctxtWERKS-LOW\").text = \"9100\"\n",
    "time.sleep(1)\n",
    "session.findById(\"wnd[0]/usr/ctxtP_VARI\").text = \"/US9100-INV.\"\n",
    "time.sleep(1)\n",
    "session.findById(\"wnd[0]\").sendVKey(8) # F8\n",
    "time.sleep(1)\n"
   ]
  },
  {
   "cell_type": "code",
   "execution_count": 6,
   "id": "26663864",
   "metadata": {},
   "outputs": [],
   "source": [
    "#### This function presses on the menu bar and triggers the export to spreadsheet option\n",
    "\n",
    "# --- make sure the ALV grid has focus (menu items are enabled only then)\n",
    "for pid in [\n",
    "    \"wnd[0]/usr/cntlGRID1/shellcont/shell\",\n",
    "    \"wnd[0]/usr/cntlALV_GRID/shellcont/shell\",\n",
    "    \"wnd[0]/usr/cntlRESULT_LIST/shellcont/shell\",\n",
    "]:\n",
    "    try:\n",
    "        session.findById(pid).setFocus()\n",
    "        break\n",
    "    except:\n",
    "        pass\n",
    "\n",
    "# --- helper that clicks a menu path by visible captions\n",
    "def click_menu(*labels):\n",
    "    path = \"wnd[0]/mbar\"\n",
    "    for depth, want in enumerate(labels):\n",
    "        want = want.lower()\n",
    "        i = 0\n",
    "        while True:\n",
    "            try:\n",
    "                itm = session.findById(f\"{path}/menu[{i}]\")\n",
    "            except:\n",
    "                raise Exception(f\"Menu '{labels[depth]}' not found at depth {depth}.\")\n",
    "            # remove accelerators (&) and match by prefix\n",
    "            txt = itm.text.replace(\"&\", \"\").strip().lower()\n",
    "            if txt.startswith(want):\n",
    "                path = f\"{path}/menu[{i}]\"\n",
    "                break\n",
    "            i += 1\n",
    "    # final select\n",
    "    session.findById(path).select()\n",
    "\n",
    "# --- List → Export → Spreadsheet…\n",
    "click_menu(\"List\", \"Export\", \"Spreadsheet\")\n",
    "\n"
   ]
  },
  {
   "cell_type": "code",
   "execution_count": 7,
   "id": "816a2ad1",
   "metadata": {},
   "outputs": [],
   "source": [
    "# --- Export dialog (OK) and Save As\n",
    "try:\n",
    "    session.findById(\"wnd[1]/tbar[0]/btn[0]\").press()  # OK on 'Export' popup (if shown)\n",
    "except: \n",
    "    pass\n",
    "\n",
    "try:\n",
    "    session.findById(\"wnd[1]/usr/ctxtDY_PATH\").text = r\"C:\\Temp\"\n",
    "    session.findById(\"wnd[1]/usr/ctxtDY_FILENAME\").text = \"MB52_Export.xlsx\"\n",
    "    session.findById(\"wnd[1]/tbar[0]/btn[0]\").press()  # Save\n",
    "except:\n",
    "    try:\n",
    "        session.findById(\"wnd[2]/tbar[0]/btn[0]\").press()  # Overwrite = Yes\n",
    "    except:\n",
    "        pass"
   ]
  },
  {
   "cell_type": "code",
   "execution_count": 8,
   "id": "12dc0bad",
   "metadata": {},
   "outputs": [],
   "source": [
    "# Adding Time Stamp as file name\n",
    "from datetime import datetime\n",
    "# Function to create time Stamp and add as Text\n",
    "now = datetime.now()\n",
    "timestamp = now.strftime(\"%Y%m%d_%H%M%S\")\n",
    "FileName = \"DailyStockCount\"\n",
    "concat = FileName+\"_\"+timestamp\n",
    "\n",
    "session.findById(\"wnd[1]/usr/ssubSUB_CONFIGURATION:SAPLSALV_GUI_CUL_EXPORT_AS:0512/txtGS_EXPORT-FILE_NAME\").text = concat\n",
    "\n",
    "# Clicking Export Button\n",
    "session.findById(\"wnd[0]\").sendVKey(0) # Enter\n",
    "\n"
   ]
  },
  {
   "cell_type": "code",
   "execution_count": null,
   "id": "14a4fec5",
   "metadata": {},
   "outputs": [],
   "source": [
    "session.findById(\"wnd[1]/usr/ctxtDY_PATH\").text =r\"C:\\\\Users\\\\JeSai\\\\OneDrive - Boviet Solar USA\\Boviet IT Team - Boviet IT Team Channel\\BI Dashboards\\Stock Data\"\n",
    "\n",
    "# session.findById(\"wnd[1]\").sendVKey(0) # Enter\n",
    "\n",
    "# Send Tab Key to allow downloading files\n",
    "# session.findById(\"wnd[2]\").sendVKey(9) #Tab key\n",
    "# session.findById(\"wnd[2]\").sendVKey(9)\n",
    "# session.findById(\"wnd[2]\").sendVKey(9)\n",
    "# session.findById(\"wnd[2]\").sendVKey(9)\n",
    "\n"
   ]
  },
  {
   "cell_type": "code",
   "execution_count": null,
   "id": "b8b6e702",
   "metadata": {},
   "outputs": [],
   "source": [
    "session.findById(\"wnd[1]\").sendVKey(0) # Enter\n"
   ]
  },
  {
   "cell_type": "code",
   "execution_count": null,
   "id": "13d09132",
   "metadata": {},
   "outputs": [],
   "source": [
    "# Allow on the popup window\n",
    "session.findById(\"wnd[2]/usr/btnSPOP-OPTION1\").press()\n"
   ]
  },
  {
   "cell_type": "code",
   "execution_count": null,
   "id": "6c58f4fc",
   "metadata": {},
   "outputs": [],
   "source": [
    "session.findById(\"wnd[1]/usr/chkSBOX-MSG_REMEMBER_DECISION\").selected = True\n",
    "session.findById(\"wnd[1]/usr/btnSPOP-OPTION1\").press()\n"
   ]
  },
  {
   "cell_type": "code",
   "execution_count": null,
   "id": "a8527d53",
   "metadata": {},
   "outputs": [],
   "source": [
    "def press_allow(session, remember=True):\n",
    "    try:\n",
    "        wnd = session.findById(\"wnd[2]\")  # security popup is usually wnd[1]\n",
    "        usr = wnd.findById(\"usr\")\n",
    "        # optionally tick \"Remember My Decision\"\n",
    "        if remember:\n",
    "            for c in usr.children:\n",
    "                if c.Type == \"GuiCheckBox\" and \"Remember\" in getattr(c, \"Text\", \"\"):\n",
    "                    c.selected = True\n",
    "                    break\n",
    "        # press the Allow button\n",
    "        for c in usr.children:\n",
    "            if c.Type == \"GuiButton\" and c.Text.strip().lower() == \"allow\":\n",
    "                c.press()\n",
    "                return True\n",
    "        # fallback to common id\n",
    "        usr.findById(\"btnSPOP-OPTION1\").press()\n",
    "        return True\n",
    "    except:\n",
    "        return False\n",
    "\n",
    "press_allow(session)\n"
   ]
  },
  {
   "cell_type": "code",
   "execution_count": null,
   "id": "2e345bcb",
   "metadata": {},
   "outputs": [],
   "source": [
    "session.findById(\"wnd[2]/tbar[0]/btn[0]\").press()"
   ]
  },
  {
   "cell_type": "code",
   "execution_count": null,
   "id": "8153e99e",
   "metadata": {},
   "outputs": [],
   "source": [
    "session.findById(\"wnd[0]\").sendVKey(0) # Enter\n"
   ]
  },
  {
   "cell_type": "code",
   "execution_count": null,
   "id": "ffcb3759",
   "metadata": {},
   "outputs": [],
   "source": []
  }
 ],
 "metadata": {
  "kernelspec": {
   "display_name": "Python 3",
   "language": "python",
   "name": "python3"
  },
  "language_info": {
   "codemirror_mode": {
    "name": "ipython",
    "version": 3
   },
   "file_extension": ".py",
   "mimetype": "text/x-python",
   "name": "python",
   "nbconvert_exporter": "python",
   "pygments_lexer": "ipython3",
   "version": "3.14.0"
  }
 },
 "nbformat": 4,
 "nbformat_minor": 5
}
