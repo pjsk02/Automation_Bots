{
 "cells": [
  {
   "cell_type": "markdown",
   "id": "6bd86d99",
   "metadata": {},
   "source": [
    "Check email regarding daily stock report"
   ]
  },
  {
   "cell_type": "code",
   "execution_count": 2,
   "id": "27950b96",
   "metadata": {},
   "outputs": [],
   "source": [
    "import win32com.client\n",
    "import subprocess\n",
    "import time"
   ]
  },
  {
   "cell_type": "code",
   "execution_count": 3,
   "id": "43b60b7a",
   "metadata": {},
   "outputs": [],
   "source": [
    "# open SAP Logon\n",
    "subprocess.Popen(r\"C:\\\\Program Files (x86)\\SAP\\\\FrontEnd\\SAPgui\\saplogon.exe\")\n",
    "time.sleep(5)\n",
    "SapGuiAuto = win32com.client.GetObject('SAPGUI')\n",
    "application = SapGuiAuto.GetScriptingEngine\n",
    "connection = application.OpenConnection(\"USDEV\",True)\n",
    "\n",
    "# login\n",
    "session = connection.Children(0)\n",
    "session.findbyId(\"wnd[0]\").maximize\n",
    "session.findById(\"wnd[0]/usr/txtRSYST-MANDT\").text = \"800\" # Client\n",
    "session.findById(\"wnd[0]/usr/txtRSYST-BNAME\").text = \"JESAI\"    # User\n",
    "session.findById(\"wnd[0]/usr/pwdRSYST-BCODE\").text = \"jaisai2025\"  # Password\n",
    "session.findById(\"wnd[0]/usr/txtRSYST-LANGU\").text = \"EN\"   # Language\n",
    "session.findById(\"wnd[0]\").sendVKey(0) # Enter\n",
    "time.sleep(1)"
   ]
  },
  {
   "cell_type": "code",
   "execution_count": null,
   "id": "6a659da7",
   "metadata": {},
   "outputs": [],
   "source": [
    "# navigate to transaction code\n",
    "session.findById(\"wnd[0]/tbar[0]/okcd\").text = \"/nSQVI\" # Transaction code\n",
    "session.findById(\"wnd[0]\").sendVKey(0) # Enter\n",
    "time.sleep(1)"
   ]
  },
  {
   "cell_type": "code",
   "execution_count": null,
   "id": "e4b92afb",
   "metadata": {},
   "outputs": [],
   "source": []
  }
 ],
 "metadata": {
  "kernelspec": {
   "display_name": "venv",
   "language": "python",
   "name": "python3"
  },
  "language_info": {
   "codemirror_mode": {
    "name": "ipython",
    "version": 3
   },
   "file_extension": ".py",
   "mimetype": "text/x-python",
   "name": "python",
   "nbconvert_exporter": "python",
   "pygments_lexer": "ipython3",
   "version": "3.11.9"
  }
 },
 "nbformat": 4,
 "nbformat_minor": 5
}
