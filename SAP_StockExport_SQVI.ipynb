{
 "cells": [
  {
   "cell_type": "markdown",
   "id": "6bc65b22",
   "metadata": {},
   "source": [
    "### This Bot exports the data from SAP and adds it into a dedicated Share Point Folder"
   ]
  },
  {
   "cell_type": "code",
   "execution_count": 4,
   "id": "8cee4fa1",
   "metadata": {},
   "outputs": [],
   "source": [
    "import win32com.client as wincli\n",
    "import subprocess\n",
    "import time"
   ]
  },
  {
   "cell_type": "code",
   "execution_count": 5,
   "id": "ce1588de",
   "metadata": {},
   "outputs": [],
   "source": [
    "# open SAP Logon\n",
    "subprocess.Popen(r\"C:\\\\Program Files (x86)\\SAP\\\\FrontEnd\\SAPgui\\saplogon.exe\")\n",
    "time.sleep(5)\n",
    "SapGuiAuto = wincli.GetObject('SAPGUI')\n",
    "application = SapGuiAuto.GetScriptingEngine\n",
    "connection = application.OpenConnection(\"USDEV\",True)\n",
    "\n",
    "# login\n",
    "session = connection.Children(0)\n",
    "session.findbyId(\"wnd[0]\").maximize\n",
    "session.findById(\"wnd[0]/usr/txtRSYST-MANDT\").text = \"800\" # Client\n",
    "session.findById(\"wnd[0]/usr/txtRSYST-BNAME\").text = \"JESAI\"    # User\n",
    "session.findById(\"wnd[0]/usr/pwdRSYST-BCODE\").text = \"jaisai2025\"  # Password\n",
    "session.findById(\"wnd[0]/usr/txtRSYST-LANGU\").text = \"EN\"   # Language\n",
    "session.findById(\"wnd[0]\").sendVKey(0) # Enter\n",
    "time.sleep(1)"
   ]
  },
  {
   "cell_type": "code",
   "execution_count": 6,
   "id": "ebf1bae5",
   "metadata": {},
   "outputs": [],
   "source": [
    "# navigate to transaction code\n",
    "session.findById(\"wnd[0]/tbar[0]/okcd\").text = \"/nSQVI\" # Transaction code\n",
    "session.findById(\"wnd[0]\").sendVKey(0) # Enter\n",
    "time.sleep(1)"
   ]
  },
  {
   "cell_type": "code",
   "execution_count": null,
   "id": "1ef5248b",
   "metadata": {},
   "outputs": [],
   "source": [
    "# Entering the View to Execute\n",
    "session.findById(\"wnd[0]/usr/ctxtRS38R-QNUM\").text = \"STOCK_QUERY\"\n",
    "# session.findById(\"wnd[0]/usr/btnP1\").press\n",
    "session.findById(\"wnd[0]\").sendVKey(8) # F8 - Execute\n",
    "\n",
    "session.findById(\"wnd[0]\").sendVKey(8) # F8\n",
    "\n"
   ]
  },
  {
   "cell_type": "code",
   "execution_count": 8,
   "id": "92c57979",
   "metadata": {},
   "outputs": [],
   "source": [
    "# Try possible grid control IDs\n",
    "possible_ids = [\n",
    "\t\"wnd[0]/usr/cntlGRID1/shellcont/shell\",\n",
    "\t\"wnd[0]/usr/cntlALV_CONTAINER_1/shellcont/shell\",\n",
    "\t\"wnd[0]/usr/cntlCONTAINER/shellcont/shell\"\n",
    "]\n",
    "\n",
    "grid = None\n",
    "for grid_id in possible_ids:\n",
    "\ttry:\n",
    "\t\tgrid = session.findById(grid_id)\n",
    "\t\tbreak\n",
    "\texcept Exception:\n",
    "\t\tcontinue\n",
    "\n",
    "if grid is None:\n",
    "\traise Exception(\"ALV grid control not found. Tried: \" + \", \".join(possible_ids))\n",
    "\n",
    "grid.pressToolbarContextButton(\"&MB_EXPORT\")  # open 'List -> Export' menu on the ALV toolbar\n",
    "grid.selectContextMenuItem(\"&XXL\")     "
   ]
  },
  {
   "cell_type": "code",
   "execution_count": 9,
   "id": "6c5c2a99",
   "metadata": {},
   "outputs": [],
   "source": [
    "# Adding Time Stamp as file name\n",
    "from datetime import datetime\n",
    "# Function to create time Stamp and add as Text\n",
    "now = datetime.now()\n",
    "timestamp = now.strftime(\"%Y%m%d_%H%M%S\")\n",
    "FileName = \"Stock_Export\"\n",
    "concat = FileName+\"_\"+timestamp\n",
    "\n",
    "session.findById(\"wnd[1]/usr/ssubSUB_CONFIGURATION:SAPLSALV_GUI_CUL_EXPORT_AS:0512/txtGS_EXPORT-FILE_NAME\").text = concat\n",
    "\n",
    "# Clicking Export Button\n",
    "session.findById(\"wnd[0]\").sendVKey(0) # Enter"
   ]
  },
  {
   "cell_type": "code",
   "execution_count": 10,
   "id": "080617fa",
   "metadata": {},
   "outputs": [],
   "source": [
    "# Saving File in Destination Folder\n",
    "session.findById(\"wnd[1]/usr/ctxtDY_PATH\").text = r\"C:\\\\Users\\\\JeSai\\\\OneDrive - Boviet Solar USA\\\\Boviet IT Team - Boviet IT Team Channel\\\\Intern\\\\Je\\\\Stock Reports\"\n",
    "\n",
    "session.findById(\"wnd[0]\").sendVKey(0) # Enter"
   ]
  }
 ],
 "metadata": {
  "kernelspec": {
   "display_name": "Python 3",
   "language": "python",
   "name": "python3"
  },
  "language_info": {
   "codemirror_mode": {
    "name": "ipython",
    "version": 3
   },
   "file_extension": ".py",
   "mimetype": "text/x-python",
   "name": "python",
   "nbconvert_exporter": "python",
   "pygments_lexer": "ipython3",
   "version": "3.14.0"
  }
 },
 "nbformat": 4,
 "nbformat_minor": 5
}
