{
 "cells": [
  {
   "cell_type": "code",
   "execution_count": null,
   "id": "6d6bda79",
   "metadata": {},
   "outputs": [
    {
     "ename": "",
     "evalue": "",
     "output_type": "error",
     "traceback": [
      "\u001b[1;31mRunning cells with '.venv (Python 3.11.9)' requires the ipykernel package.\n",
      "\u001b[1;31mInstall 'ipykernel' into the Python environment. \n",
      "\u001b[1;31mCommand: '\"c:/Users/JeSai/OneDrive - Boviet Solar USA/Desktop/VSCode/.venv/Scripts/python.exe\" -m pip install ipykernel -U --force-reinstall'"
     ]
    }
   ],
   "source": [
    "import win32com.client\n",
    "import subprocess\n",
    "import time"
   ]
  },
  {
   "cell_type": "code",
   "execution_count": 2,
   "id": "d671c190",
   "metadata": {},
   "outputs": [],
   "source": [
    "# open SAP Logon\n",
    "subprocess.Popen(r\"C:\\\\Program Files (x86)\\SAP\\\\FrontEnd\\SAPgui\\saplogon.exe\")\n",
    "time.sleep(5)\n",
    "SapGuiAuto = win32com.client.GetObject('SAPGUI')\n",
    "application = SapGuiAuto.GetScriptingEngine\n",
    "connection = application.OpenConnection(\"USDEV\",True)\n",
    "\n",
    "# login\n",
    "session = connection.Children(0)\n",
    "session.findbyId(\"wnd[0]\").maximize\n",
    "session.findById(\"wnd[0]/usr/txtRSYST-MANDT\").text = \"800\" # Client\n",
    "session.findById(\"wnd[0]/usr/txtRSYST-BNAME\").text = \"JESAI\"    # User\n",
    "session.findById(\"wnd[0]/usr/pwdRSYST-BCODE\").text = \"jaisai2025\"  # Password\n",
    "session.findById(\"wnd[0]/usr/txtRSYST-LANGU\").text = \"EN\"   # Language\n",
    "session.findById(\"wnd[0]\").sendVKey(0) # Enter\n",
    "time.sleep(1)"
   ]
  },
  {
   "cell_type": "code",
   "execution_count": null,
   "id": "f137300e",
   "metadata": {},
   "outputs": [],
   "source": [
    "# navigate to transaction code\n",
    "session.findById(\"wnd[0]/tbar[0]/okcd\").text = \"/nME21N\" # Transaction code\n",
    "session.findById(\"wnd[0]\").sendVKey(0) # Enter\n",
    "time.sleep(1)"
   ]
  },
  {
   "cell_type": "markdown",
   "id": "9be604b2",
   "metadata": {},
   "source": [
    "Test PO Created with number 4700000015"
   ]
  },
  {
   "cell_type": "markdown",
   "id": "a198f897",
   "metadata": {},
   "source": [
    "Material document 5000000137 posted"
   ]
  },
  {
   "cell_type": "code",
   "execution_count": null,
   "id": "1dc1e6de",
   "metadata": {},
   "outputs": [],
   "source": []
  }
 ],
 "metadata": {
  "kernelspec": {
   "display_name": ".venv",
   "language": "python",
   "name": "python3"
  },
  "language_info": {
   "codemirror_mode": {
    "name": "ipython",
    "version": 3
   },
   "file_extension": ".py",
   "mimetype": "text/x-python",
   "name": "python",
   "nbconvert_exporter": "python",
   "pygments_lexer": "ipython3",
   "version": "3.11.9"
  }
 },
 "nbformat": 4,
 "nbformat_minor": 5
}
